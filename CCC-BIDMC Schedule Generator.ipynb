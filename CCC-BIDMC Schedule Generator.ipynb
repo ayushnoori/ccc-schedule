{
 "cells": [
  {
   "cell_type": "markdown",
   "metadata": {},
   "source": [
    "# **CCC-BIDMC Schedule Generator**\n",
    "\n",
    "**Ayush Noori** <br>\n",
    "**Crimson Care Collaborative Clinic** <br>\n",
    "**May 19, 2024**\n",
    "\n",
    "---"
   ]
  },
  {
   "cell_type": "code",
   "execution_count": 1,
   "metadata": {},
   "outputs": [],
   "source": [
    "# Standard imports\n",
    "import numpy as np\n",
    "import pandas as pd\n",
    "import matplotlib.pyplot as plt\n",
    "import seaborn as sns\n",
    "\n",
    "# Path management\n",
    "from pathlib import Path\n",
    "\n",
    "# Get downloads folder\n",
    "downloads = Path.home() / \"Downloads\""
   ]
  },
  {
   "cell_type": "markdown",
   "metadata": {},
   "source": [
    "Read in the availability data."
   ]
  },
  {
   "cell_type": "code",
   "execution_count": 2,
   "metadata": {},
   "outputs": [],
   "source": [
    "# Read in form responses\n",
    "returning_responses = \"CCC-BIDMC Summer 2024 Returning Interest Form (Responses) - Form Responses 1.csv\"\n",
    "new_responses = \"CCC-BIDMC Summer 2024 New Volunteer Scheduling (Responses) - Form Responses 1.csv\"\n",
    "df = pd.read_csv(downloads / returning_responses)\n",
    "\n",
    "# Read new response\n",
    "df_new = pd.read_csv(downloads / new_responses)\n",
    "df[\"new\"] = \"No\"\n",
    "df_new[\"new\"] = \"Yes\"\n",
    "\n",
    "# Concatenate dataframes\n",
    "df.columns = ['timestamp', 'first', 'last', 'role', 'return', 'epic', 'shifts', 'comments', 'new']\n",
    "df_new.columns = ['timestamp', 'first', 'last', 'role', 'return', 'epic', 'shifts', 'comments', 'new']\n",
    "df = pd.concat([df, df_new], ignore_index=True)\n",
    "\n",
    "# Set column names\n",
    "df[\"first\"] = df[\"first\"].str.strip()\n",
    "df[\"last\"] = df[\"last\"].str.strip()\n",
    "\n",
    "# Convert time stamp to datetime\n",
    "df[\"timestamp\"] = pd.to_datetime(df[\"timestamp\"])\n",
    "\n",
    "# Take the most recent response\n",
    "df = df.sort_values(\"timestamp\").groupby([\"first\", \"last\"]).last().reset_index()\n",
    "df = df[df[\"return\"] == \"Yes\"]\n",
    "df.reset_index(drop=True, inplace=True)"
   ]
  },
  {
   "cell_type": "markdown",
   "metadata": {},
   "source": [
    "Generate availability table."
   ]
  },
  {
   "cell_type": "code",
   "execution_count": 3,
   "metadata": {},
   "outputs": [],
   "source": [
    "# Generate summer clinic dates\n",
    "start_date = \"June 4, 2024\"\n",
    "end_date = \"September 17, 2024\"\n",
    "\n",
    "# Weekly dates on Tuesdays\n",
    "dates = pd.date_range(start=start_date, end=end_date, freq=\"W-TUE\")\n",
    "dates = dates.strftime(\"%-m/%-d/%Y\").values\n",
    "\n",
    "# Create a dataframe with name, role, and dates\n",
    "availability = pd.DataFrame(columns=[\"Name\", \"Role\"] + list(dates))"
   ]
  },
  {
   "cell_type": "markdown",
   "metadata": {},
   "source": [
    "Populate availability table with form responses."
   ]
  },
  {
   "cell_type": "code",
   "execution_count": 4,
   "metadata": {},
   "outputs": [],
   "source": [
    "# Iterate over the responses\n",
    "for i, row in df.iterrows():\n",
    "    \n",
    "    # Get the name and role\n",
    "    name = f\"{row['first']} {row['last']}\"\n",
    "    if row['new'] == \"Yes\":\n",
    "        name = f\"{row['first']} {row['last']}\"\n",
    "    role = row[\"role\"]\n",
    "    \n",
    "    # Get the shifts\n",
    "    shifts = row[\"shifts\"].split(\", \")\n",
    "    year = 2024\n",
    "    shifts = [pd.to_datetime(f\"{shift} {year}\").strftime(\"%-m/%-d/%Y\") for shift in shifts]\n",
    "    \n",
    "    # Create a row\n",
    "    schedule = [name, role] + [\"\" if date in shifts else \"x\" for date in dates]\n",
    "    \n",
    "    # Add the row to the dataframe\n",
    "    availability.loc[i] = schedule"
   ]
  },
  {
   "cell_type": "markdown",
   "metadata": {},
   "source": [
    "Mark all new volunteers as unavailable for the first two weeks."
   ]
  },
  {
   "cell_type": "code",
   "execution_count": 5,
   "metadata": {},
   "outputs": [
    {
     "name": "stdout",
     "output_type": "stream",
     "text": [
      "Updating availability for Amanda Law\n",
      "Updating availability for Caroline Diggins\n",
      "Updating availability for Corinne Auger\n",
      "Updating availability for Denny Lu\n",
      "Updating availability for Emily Yang\n",
      "Updating availability for Esmé Wheeler\n",
      "Updating availability for Fielding Fischer\n",
      "Updating availability for Massoud Sharif\n",
      "Updating availability for Michael Chen\n",
      "Updating availability for Nishmi Abeyweera\n",
      "Updating availability for Sojas Wagle\n"
     ]
    }
   ],
   "source": [
    "# Get all new volunteers\n",
    "new_volunteers = df[df[\"new\"] == \"Yes\"]\n",
    "\n",
    "# Set all new volunteer availability to \"x\" for first two weeks\n",
    "for i, row in new_volunteers.iterrows():\n",
    "    \n",
    "    # Get the name\n",
    "    name = f\"{row['first']} {row['last']}\"\n",
    "    print(\"Updating availability for\", name)\n",
    "\n",
    "    # Update availability for first two weeks\n",
    "    availability.loc[availability[\"Name\"] == name, dates[:2]] = \"x\""
   ]
  },
  {
   "cell_type": "markdown",
   "metadata": {},
   "source": [
    "Add PCC (Senior Clinicians) every two weeks, and grant them highest scheduling priority. Finally, add back-up junior and senior clinicians."
   ]
  },
  {
   "cell_type": "code",
   "execution_count": 6,
   "metadata": {},
   "outputs": [
    {
     "name": "stdout",
     "output_type": "stream",
     "text": [
      "Adding availability for PCC 1\n",
      "Adding availability for PCC 2\n",
      "Adding availability for PCC 3\n",
      "Adding availability for PCC 4\n"
     ]
    }
   ],
   "source": [
    "# Add PCC 1-4 to the availability\n",
    "pcc_clinicans = [\"PCC 1\", \"PCC 2\", \"PCC 3\", \"PCC 4\"]\n",
    "for pcc in pcc_clinicans:\n",
    "\n",
    "    # PCC start and end dates\n",
    "    pcc_start_1 = \"June 4, 2024\"\n",
    "    pcc_end_1 = \"June 18, 2024\"\n",
    "    pcc_start_2 = \"July 9, 2024\"\n",
    "    pcc_end_2 = \"September 17, 2024\"\n",
    "\n",
    "    # Make availability every other week\n",
    "    pcc_dates_1 = pd.date_range(start=pcc_start_1, end=pcc_end_1, freq=\"2W-TUE\")\n",
    "    pcc_dates_1 = pcc_dates_1.strftime(\"%-m/%-d/%Y\").values\n",
    "    pcc_dates_2 = pd.date_range(start=pcc_start_2, end=pcc_end_2, freq=\"2W-TUE\")\n",
    "    pcc_dates_2 = pcc_dates_2.strftime(\"%-m/%-d/%Y\").values\n",
    "    pcc_dates = np.concatenate([pcc_dates_1, pcc_dates_2])\n",
    "    pcc_avail = [\"\" if date in pcc_dates else \"x\" for date in dates]\n",
    "\n",
    "    # Add a row for each PCC\n",
    "    availability.loc[len(availability)] = [pcc, \"Senior Clinician\"] + pcc_avail\n",
    "    print(\"Adding availability for\", pcc)"
   ]
  },
  {
   "cell_type": "markdown",
   "metadata": {},
   "source": [
    "Process and save availability table."
   ]
  },
  {
   "cell_type": "code",
   "execution_count": 8,
   "metadata": {},
   "outputs": [],
   "source": [
    "# Order by role\n",
    "role_order = [\"Senior Clinician\", \"Junior Clinician\", \"Senior Director\", \"Administrative Manager\"]\n",
    "availability[\"Role\"] = pd.Categorical(availability[\"Role\"], categories=role_order, ordered=True)\n",
    "availability = availability.sort_values([\"Role\", \"Name\"]).reset_index(drop=True)"
   ]
  },
  {
   "cell_type": "markdown",
   "metadata": {},
   "source": [
    "Schedule clinic shifts based on availability and even distribution of shifts."
   ]
  },
  {
   "cell_type": "code",
   "execution_count": 15,
   "metadata": {},
   "outputs": [],
   "source": [
    "# First, schedule everyone\n",
    "schedule = availability.copy()\n",
    "schedule = schedule.replace(\"\", \"s\")\n",
    "\n",
    "# Maximum shifts by role\n",
    "max_shifts = {\n",
    "    \"Senior Clinician\": 6,\n",
    "    \"Junior Clinician\": 6,\n",
    "    \"Senior Director\": 3,\n",
    "    \"Administrative Manager\": 1\n",
    "} \n",
    "\n",
    "# Create counter of shifts per person\n",
    "schedule[\"Counts\"] = schedule[dates].apply(lambda x: x.value_counts()[\"s\"], axis=1)\n",
    "\n",
    "# Grant PCC highest priority by setting counter to 0\n",
    "schedule.loc[schedule[\"Name\"].str.contains(\"PCC\"), \"Counts\"] = 0"
   ]
  },
  {
   "cell_type": "markdown",
   "metadata": {},
   "source": [
    "Generate schedule table."
   ]
  },
  {
   "cell_type": "code",
   "execution_count": 16,
   "metadata": {},
   "outputs": [],
   "source": [
    "# Iterate over the dates\n",
    "for date in dates:\n",
    "\n",
    "    # Iterate over the roles\n",
    "    for role in max_shifts.keys():\n",
    "\n",
    "        # Get the people who are scheduled\n",
    "        scheduled = schedule[schedule[date] == \"s\"]\n",
    "        scheduled = scheduled[scheduled[\"Role\"] == role]\n",
    "\n",
    "        # If the number of people is more than the maximum\n",
    "        if len(scheduled) > max_shifts[role]:\n",
    "            scheduled = scheduled.sort_values(\"Counts\", ascending=False)\n",
    "\n",
    "            # Drop people with the fewest shifts until the number is correct\n",
    "            while len(scheduled) > max_shifts[role]:\n",
    "                person = scheduled.iloc[0]\n",
    "                schedule.loc[schedule[\"Name\"] == person[\"Name\"], date] = \"\"\n",
    "                schedule.loc[schedule[\"Name\"] == person[\"Name\"], \"Counts\"] -= 1\n",
    "                scheduled = scheduled.drop(person.name)"
   ]
  },
  {
   "cell_type": "markdown",
   "metadata": {},
   "source": [
    "Save to file."
   ]
  },
  {
   "cell_type": "code",
   "execution_count": 21,
   "metadata": {},
   "outputs": [],
   "source": [
    "# Save availability and schedule\n",
    "availability.to_csv(\"availability.csv\", index=False, encoding=\"utf-8-sig\")\n",
    "schedule.to_csv(\"schedule.csv\", index=False, encoding=\"utf-8-sig\")"
   ]
  }
 ],
 "metadata": {
  "kernelspec": {
   "display_name": "base",
   "language": "python",
   "name": "python3"
  },
  "language_info": {
   "codemirror_mode": {
    "name": "ipython",
    "version": 3
   },
   "file_extension": ".py",
   "mimetype": "text/x-python",
   "name": "python",
   "nbconvert_exporter": "python",
   "pygments_lexer": "ipython3",
   "version": "3.9.12"
  }
 },
 "nbformat": 4,
 "nbformat_minor": 2
}
