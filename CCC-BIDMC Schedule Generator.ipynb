{
 "cells": [
  {
   "cell_type": "markdown",
   "metadata": {},
   "source": [
    "# **CCC-BIDMC Schedule Generator**\n",
    "\n",
    "**Ayush Noori** <br>\n",
    "**Crimson Care Collaborative Clinic** <br>\n",
    "**May 19, 2024**\n",
    "\n",
    "---"
   ]
  },
  {
   "cell_type": "code",
   "execution_count": 1,
   "metadata": {},
   "outputs": [],
   "source": [
    "# Standard imports\n",
    "import numpy as np\n",
    "import pandas as pd\n",
    "import matplotlib.pyplot as plt\n",
    "import seaborn as sns\n",
    "\n",
    "# Path management\n",
    "from pathlib import Path\n",
    "\n",
    "# Get downloads folder\n",
    "downloads = Path.home() / \"Downloads\""
   ]
  },
  {
   "cell_type": "markdown",
   "metadata": {},
   "source": [
    "Read in the availability data."
   ]
  },
  {
   "cell_type": "code",
   "execution_count": 2,
   "metadata": {},
   "outputs": [],
   "source": [
    "# Read in form responses\n",
    "form_path = \"CCC-BIDMC Summer 2024 Returning Interest Form (Responses) - Form Responses 1.csv\"\n",
    "df = pd.read_csv(downloads / form_path)\n",
    "\n",
    "# Set column names\n",
    "df.columns = ['timestamp', 'first', 'last', 'role', 'return', 'epic', 'shifts', 'comments']\n",
    "df[\"first\"] = df[\"first\"].str.strip()\n",
    "df[\"last\"] = df[\"last\"].str.strip()\n",
    "\n",
    "# Convert time stamp to datetime\n",
    "df[\"timestamp\"] = pd.to_datetime(df[\"timestamp\"])\n",
    "\n",
    "# Take the most recent response\n",
    "df = df.sort_values(\"timestamp\").groupby([\"first\", \"last\"]).last().reset_index()\n",
    "df = df[df[\"return\"] == \"Yes\"]"
   ]
  },
  {
   "cell_type": "markdown",
   "metadata": {},
   "source": [
    "Generate availability table."
   ]
  },
  {
   "cell_type": "code",
   "execution_count": 3,
   "metadata": {},
   "outputs": [],
   "source": [
    "# Generate summer clinic dates\n",
    "start_date = \"June 4, 2024\"\n",
    "end_date = \"September 17, 2024\"\n",
    "\n",
    "# Weekly dates on Tuesdays\n",
    "dates = pd.date_range(start=start_date, end=end_date, freq=\"W-TUE\")\n",
    "dates = dates.strftime(\"%-m/%-d/%Y\").values\n",
    "\n",
    "# Create a dataframe with name, role, and dates\n",
    "availability = pd.DataFrame(columns=[\"Name\", \"Role\"] + list(dates))"
   ]
  },
  {
   "cell_type": "markdown",
   "metadata": {},
   "source": [
    "Populate availability table with form responses."
   ]
  },
  {
   "cell_type": "code",
   "execution_count": 4,
   "metadata": {},
   "outputs": [],
   "source": [
    "# Iterate over the responses\n",
    "for i, row in df.iterrows():\n",
    "    \n",
    "    # Get the name and role\n",
    "    name = f\"{row['first']} {row['last']}\"\n",
    "    role = row[\"role\"]\n",
    "    \n",
    "    # Get the shifts\n",
    "    shifts = row[\"shifts\"].split(\", \")\n",
    "    year = 2024\n",
    "    shifts = [pd.to_datetime(f\"{shift} {year}\").strftime(\"%-m/%-d/%Y\") for shift in shifts]\n",
    "    \n",
    "    # Create a row\n",
    "    schedule = [name, role] + [\"\" if date in shifts else \"x\" for date in dates]\n",
    "    \n",
    "    # Add the row to the dataframe\n",
    "    availability.loc[i] = schedule"
   ]
  },
  {
   "cell_type": "markdown",
   "metadata": {},
   "source": [
    "Process and save availability table."
   ]
  },
  {
   "cell_type": "code",
   "execution_count": 5,
   "metadata": {},
   "outputs": [],
   "source": [
    "# Order by role\n",
    "role_order = [\"Senior Clinician\", \"Junior Clinician\", \"Senior Director\", \"Administrative Manager\"]\n",
    "availability[\"Role\"] = pd.Categorical(availability[\"Role\"], categories=role_order, ordered=True)\n",
    "availability = availability.sort_values([\"Role\", \"Name\"]).reset_index(drop=True)"
   ]
  },
  {
   "cell_type": "markdown",
   "metadata": {},
   "source": [
    "Schedule clinic shifts based on availability and even distribution of shifts."
   ]
  },
  {
   "cell_type": "code",
   "execution_count": 6,
   "metadata": {},
   "outputs": [],
   "source": [
    "# First, schedule everyone\n",
    "schedule = availability.copy()\n",
    "schedule = schedule.replace(\"\", \"s\")\n",
    "\n",
    "# Maximum shifts by role\n",
    "max_shifts = {\n",
    "    \"Senior Clinician\": 6,\n",
    "    \"Junior Clinician\": 6,\n",
    "    \"Senior Director\": 3,\n",
    "    \"Administrative Manager\": 1\n",
    "} \n",
    "\n",
    "# Create counter of shifts per person\n",
    "schedule[\"Counts\"] = schedule[dates].apply(lambda x: x.value_counts()[\"s\"], axis=1)"
   ]
  },
  {
   "cell_type": "markdown",
   "metadata": {},
   "source": [
    "Generate schedule table."
   ]
  },
  {
   "cell_type": "code",
   "execution_count": 7,
   "metadata": {},
   "outputs": [],
   "source": [
    "# Iterate over the dates\n",
    "for date in dates:\n",
    "\n",
    "    # Iterate over the roles\n",
    "    for role in max_shifts.keys():\n",
    "\n",
    "        # Get the people who are scheduled\n",
    "        scheduled = schedule[schedule[date] == \"s\"]\n",
    "        scheduled = scheduled[scheduled[\"Role\"] == role]\n",
    "\n",
    "        # If the number of people is more than the maximum\n",
    "        if len(scheduled) > max_shifts[role]:\n",
    "            scheduled = scheduled.sort_values(\"Counts\", ascending=False)\n",
    "\n",
    "            # Drop people with the fewest shifts until the number is correct\n",
    "            while len(scheduled) > max_shifts[role]:\n",
    "                person = scheduled.iloc[0]\n",
    "                schedule.loc[schedule[\"Name\"] == person[\"Name\"], date] = \"\"\n",
    "                schedule.loc[schedule[\"Name\"] == person[\"Name\"], \"Counts\"] -= 1\n",
    "                scheduled = scheduled.drop(person.name)"
   ]
  },
  {
   "cell_type": "markdown",
   "metadata": {},
   "source": [
    "Save to file."
   ]
  },
  {
   "cell_type": "code",
   "execution_count": 8,
   "metadata": {},
   "outputs": [],
   "source": [
    "# Save availability and schedule\n",
    "availability.to_csv(\"availability.csv\", index=False)\n",
    "schedule.to_csv(\"schedule.csv\", index=False)"
   ]
  }
 ],
 "metadata": {
  "kernelspec": {
   "display_name": "base",
   "language": "python",
   "name": "python3"
  },
  "language_info": {
   "codemirror_mode": {
    "name": "ipython",
    "version": 3
   },
   "file_extension": ".py",
   "mimetype": "text/x-python",
   "name": "python",
   "nbconvert_exporter": "python",
   "pygments_lexer": "ipython3",
   "version": "3.9.12"
  }
 },
 "nbformat": 4,
 "nbformat_minor": 2
}
